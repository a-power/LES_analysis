{
 "cells": [
  {
   "cell_type": "code",
   "execution_count": 2,
   "metadata": {
    "collapsed": true
   },
   "outputs": [],
   "source": [
    "import numpy as np"
   ]
  },
  {
   "cell_type": "code",
   "execution_count": 13,
   "outputs": [],
   "source": [
    "def sigma_1(n, delta):\n",
    "\n",
    "    sig_smag = (2/np.pi)*delta\n",
    "    sig_1 = np.sqrt((n*n/4)*delta*delta - sig_smag*sig_smag)\n",
    "\n",
    "    return np.round(sig_1, 0)\n",
    "\n",
    "def sigma_2(m, delta):\n",
    "\n",
    "    sig_2 = np.sqrt(3)*m*delta/4\n",
    "\n",
    "    return np.round(sig_2, 0)\n",
    "\n",
    "\n",
    "def sigma_2_gen(n, m, delta):\n",
    "    sig_2 = np.sqrt(m*m - n*n) * delta / 2\n",
    "\n",
    "    return np.round(sig_2, 0)"
   ],
   "metadata": {
    "collapsed": false
   }
  },
  {
   "cell_type": "code",
   "execution_count": 17,
   "outputs": [
    {
     "name": "stdout",
     "output_type": "stream",
     "text": [
      "Accounting for smag 15.0 , currently using  20.0\n",
      "Accounting for smag 38.0 , currently using  40.0\n",
      "Accounting for smag 79.0 , currently using  80.0\n",
      "Accounting for smag 159.0 , currently using  160.0\n",
      "Accounting for smag 320.0 , currently using  320.0\n",
      "Accounting for smag 640.0 , currently using  640.0\n"
     ]
    }
   ],
   "source": [
    "coarsen_1 = np.array([2, 4, 8, 16, 32, 64])\n",
    "coarsen_2 = 2*coarsen_1\n",
    "\n",
    "for n in coarsen_1:\n",
    "    print('Accounting for smag', sigma_1(n, 20), ', currently using ', 20*n/2)"
   ],
   "metadata": {
    "collapsed": false
   }
  },
  {
   "cell_type": "code",
   "execution_count": 20,
   "outputs": [
    {
     "name": "stdout",
     "output_type": "stream",
     "text": [
      "Accounting for smag 43.0 , currently using  25.0\n",
      "Accounting for smag 87.0 , currently using  50.0\n",
      "Accounting for smag 173.0 , currently using  100.0\n",
      "Accounting for smag 346.0 , currently using  200.0\n",
      "Accounting for smag 693.0 , currently using  400.0\n",
      "Accounting for smag 1386.0 , currently using  800.0\n"
     ]
    }
   ],
   "source": [
    "coarsen_2 = 2*coarsen_1\n",
    "\n",
    "for m in coarsen_2:\n",
    "    print('Accounting for smag', sigma_2(m, 25), ', currently using ', 25*m/4)"
   ],
   "metadata": {
    "collapsed": false
   }
  },
  {
   "cell_type": "code",
   "execution_count": null,
   "outputs": [],
   "source": [],
   "metadata": {
    "collapsed": false
   }
  }
 ],
 "metadata": {
  "kernelspec": {
   "display_name": "Python 3",
   "language": "python",
   "name": "python3"
  },
  "language_info": {
   "codemirror_mode": {
    "name": "ipython",
    "version": 2
   },
   "file_extension": ".py",
   "mimetype": "text/x-python",
   "name": "python",
   "nbconvert_exporter": "python",
   "pygments_lexer": "ipython2",
   "version": "2.7.6"
  }
 },
 "nbformat": 4,
 "nbformat_minor": 0
}
