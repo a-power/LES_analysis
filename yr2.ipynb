{
 "cells": [
  {
   "cell_type": "markdown",
   "metadata": {},
   "source": [
    "# Data in"
   ]
  },
  {
   "cell_type": "code",
   "execution_count": 5,
   "metadata": {},
   "outputs": [],
   "source": [
    "import os\n",
    "import netCDF4\n",
    "from netCDF4 import Dataset\n",
    "import matplotlib.pyplot as plt\n",
    "import matplotlib.colors as mcolors\n",
    "import numpy as np\n",
    "from matplotlib import cm\n",
    "from matplotlib.colors import Normalize \n",
    "from scipy.interpolate import interpn\n",
    "from scipy import integrate\n",
    "import scipy.stats as sci\n",
    "import scipy.signal as sig\n",
    "import seaborn as sns\n",
    "from importlib import reload\n",
    "import functions as f\n",
    "\n",
    "f = reload(f)\n",
    "\n",
    "#import warnings; warnings.simplefilter('ignore')"
   ]
  },
  {
   "cell_type": "code",
   "execution_count": 12,
   "metadata": {
    "collapsed": true
   },
   "outputs": [
    {
     "ename": "ValueError",
     "evalue": "Cannot load file containing pickled data when allow_pickle=False",
     "output_type": "error",
     "traceback": [
      "\u001b[0;31m---------------------------------------------------------------------------\u001b[0m",
      "\u001b[0;31mValueError\u001b[0m                                Traceback (most recent call last)",
      "\u001b[0;32m<ipython-input-12-6dd6190d7e10>\u001b[0m in \u001b[0;36m<module>\u001b[0;34m\u001b[0m\n\u001b[1;32m      9\u001b[0m \u001b[0;32mwith\u001b[0m \u001b[0mopen\u001b[0m\u001b[0;34m(\u001b[0m\u001b[0;34m'test.npy'\u001b[0m\u001b[0;34m,\u001b[0m \u001b[0;34m'rb'\u001b[0m\u001b[0;34m)\u001b[0m \u001b[0;32mas\u001b[0m \u001b[0mf\u001b[0m\u001b[0;34m:\u001b[0m\u001b[0;34m\u001b[0m\u001b[0;34m\u001b[0m\u001b[0m\n\u001b[1;32m     10\u001b[0m \u001b[0;34m\u001b[0m\u001b[0m\n\u001b[0;32m---> 11\u001b[0;31m     \u001b[0mprint\u001b[0m\u001b[0;34m(\u001b[0m\u001b[0mnp\u001b[0m\u001b[0;34m.\u001b[0m\u001b[0mload\u001b[0m\u001b[0;34m(\u001b[0m\u001b[0mf\u001b[0m\u001b[0;34m)\u001b[0m\u001b[0;34m)\u001b[0m\u001b[0;34m\u001b[0m\u001b[0;34m\u001b[0m\u001b[0m\n\u001b[0m",
      "\u001b[0;32m~/.conda/envs/myenv/lib/python3.6/site-packages/numpy/lib/npyio.py\u001b[0m in \u001b[0;36mload\u001b[0;34m(file, mmap_mode, allow_pickle, fix_imports, encoding)\u001b[0m\n\u001b[1;32m    442\u001b[0m             \u001b[0;31m# Try a pickle\u001b[0m\u001b[0;34m\u001b[0m\u001b[0;34m\u001b[0m\u001b[0;34m\u001b[0m\u001b[0m\n\u001b[1;32m    443\u001b[0m             \u001b[0;32mif\u001b[0m \u001b[0;32mnot\u001b[0m \u001b[0mallow_pickle\u001b[0m\u001b[0;34m:\u001b[0m\u001b[0;34m\u001b[0m\u001b[0;34m\u001b[0m\u001b[0m\n\u001b[0;32m--> 444\u001b[0;31m                 raise ValueError(\"Cannot load file containing pickled data \"\n\u001b[0m\u001b[1;32m    445\u001b[0m                                  \"when allow_pickle=False\")\n\u001b[1;32m    446\u001b[0m             \u001b[0;32mtry\u001b[0m\u001b[0;34m:\u001b[0m\u001b[0;34m\u001b[0m\u001b[0;34m\u001b[0m\u001b[0m\n",
      "\u001b[0;31mValueError\u001b[0m: Cannot load file containing pickled data when allow_pickle=False"
     ]
    }
   ],
   "source": [
    "import numpy as np\n",
    "a = np.zeros((9, 5))\n",
    "b = np.zeros((10, 2))\n",
    "\n",
    "with open('test.npy', 'wb') as f:\n",
    "\n",
    "    np.save('f', [a, b])\n",
    "\n",
    "with open('test.npy', 'rb') as f:\n",
    "\n",
    "    print(np.load(f))"
   ]
  },
  {
   "cell_type": "code",
   "execution_count": 2,
   "metadata": {},
   "outputs": [],
   "source": [
    "file5m = '/storage/silver/scenario/si818415/phd/5mLES/runs2.nc'\n",
    "data5m = Dataset(file5m, mode='r')\n",
    "my_w_th = data5m.variables['w_th'][:,:,:]\n",
    "th_p = data5m.variables['th_p'][:,:,:]"
   ]
  },
  {
   "cell_type": "code",
   "execution_count": 3,
   "metadata": {},
   "outputs": [],
   "source": [
    "mydir_runs = '/storage/silver/scenario/si818415/phd/'\n",
    "myfolder = ['5mLES/','20mLES/', '25mLES_animat/', '50mLES/','100mLES/','200mLES/', '400mLES/', '800mLES/']\n",
    "myfile_run = []\n",
    "\n",
    "myfile_run.append(\"diagnostics_3d_ts_13200.nc\")\n",
    "myfile_run.append(\"cbl_13200.nc\")\n",
    "\n",
    "myfile_run.append(\"cbl_13500.nc\")\n",
    "myfile_run.append(\"cbl_13800.nc\")\n",
    "myfile_run.append(\"cbl_14100.nc\")\n",
    "myfile_run.append(\"cbl_14400.nc\")\n",
    "myfile_run.append(\"cbl_14700.nc\")\n",
    "myfile_run.append(\"cbl_15000.nc\")\n",
    "    \n",
    "data_sg_run0  = Dataset(str(mydir_runs)+myfolder[0]+'subgrid/diagnostics_ts_13200.nc', mode='r')\n",
    "data_run0 = Dataset(str(mydir_runs)+myfolder[0]+myfile_run[0], mode='r')\n",
    "data_run1 = Dataset(str(mydir_runs)+myfolder[1]+myfile_run[1], mode='r')\n",
    "\n",
    "data_run2a = Dataset(str(mydir_runs)+myfolder[2]+myfile_run[2], mode='r')\n",
    "data_run2b = Dataset(str(mydir_runs)+myfolder[2]+myfile_run[3], mode='r')\n",
    "data_run2c = Dataset(str(mydir_runs)+myfolder[2]+myfile_run[4], mode='r')\n",
    "data_run2d = Dataset(str(mydir_runs)+myfolder[2]+myfile_run[5], mode='r')\n",
    "data_run2e = Dataset(str(mydir_runs)+myfolder[2]+myfile_run[6], mode='r')\n",
    "data_run2f = Dataset(str(mydir_runs)+myfolder[2]+myfile_run[7], mode='r')\n",
    "\n",
    "data_run3 = Dataset(str(mydir_runs)+myfolder[3]+myfile_run[1], mode='r')\n",
    "data_run4 = Dataset(str(mydir_runs)+myfolder[4]+myfile_run[1], mode='r')\n",
    "data_run5 = Dataset(str(mydir_runs)+myfolder[5]+myfile_run[1], mode='r')\n",
    "data_run6 = Dataset(str(mydir_runs)+myfolder[6]+myfile_run[1], mode='r')\n",
    "data_run7 = Dataset(str(mydir_runs)+myfolder[7]+myfile_run[1], mode='r')"
   ]
  },
  {
   "cell_type": "code",
   "execution_count": 4,
   "metadata": {
    "scrolled": true
   },
   "outputs": [],
   "source": [
    "w_run5 = data_run0.variables['w'][0,:,:,:]\n",
    "w_run20 = data_run1.variables['w'][0,:,:,:] # 2 time stamps\n",
    "\n",
    "w_run25a = data_run2a.variables['w'][:,:,:,:]\n",
    "\n",
    "w_run50 = data_run3.variables['w'][0,:,:,:]\n",
    "w_run100 = data_run4.variables['w'][0,:,:,:]\n",
    "w_run200 = data_run5.variables['w'][0,:,:,:]\n",
    "w_run400 = data_run6.variables['w'][0,:,:,:] # 2 time stamps\n",
    "w_run800 = data_run7.variables['w'][0,:,:,:]"
   ]
  },
  {
   "cell_type": "markdown",
   "metadata": {},
   "source": [
    "# Filtering"
   ]
  },
  {
   "cell_type": "code",
   "execution_count": 5,
   "metadata": {},
   "outputs": [],
   "source": [
    "plot_dir = '/storage/silver/scenario/si818415/phd/plots/'"
   ]
  },
  {
   "cell_type": "code",
   "execution_count": 45,
   "metadata": {},
   "outputs": [],
   "source": [
    "file20f = '/storage/silver/scenario/si818415/phd/20mLES/20m_gauss_S_ij/cbl_13200_gauss_filter_ga00.nc'\n",
    "data20f = Dataset(file20f, mode='r')\n",
    "file20_4D = '/storage/silver/scenario/si818415/phd/20mLES/20m_gauss_S_ij_4Delta/cbl_13200_gauss_filter_ga00.nc'\n",
    "data20_4D = Dataset(file20_4D, mode='r')"
   ]
  },
  {
   "cell_type": "code",
   "execution_count": 97,
   "metadata": {},
   "outputs": [],
   "source": [
    "mydir20 = '/storage/silver/MONC_data/Alanna/20m_gauss_sig_Delta_match' #'20m_gauss_match_sq6/'\n",
    "myfile20 = ['/cbl_13200__filter_ga00.nc']\n",
    "\n",
    "for i in range(5):\n",
    "    myfile20.append(f'/cbl_13200__filter_ga{i:02d}.nc')#\"cbl_13200_gaussian_filter_ga0{}.nc\".format(str(i)))\n",
    "\n",
    "data0_20 = Dataset(str(mydir20)+str('_25')+myfile20[0], mode='r')\n",
    "data1_20 = Dataset(str(mydir20)+myfile20[1], mode='r')\n",
    "data2_20 = Dataset(str(mydir20)+myfile20[2], mode='r')\n",
    "data3_20 = Dataset(str(mydir20)+myfile20[3], mode='r')\n",
    "data4_20 = Dataset(str(mydir20)+myfile20[4], mode='r')\n",
    "data5_20 = Dataset(str(mydir20)+myfile20[5], mode='r')\n",
    "#data5_20 = Dataset(str(mydir20)+myfile20[5], mode='r')\n",
    "# data6_20 = Dataset(str(mydir20)+myfile20[6], mode='r')\n",
    "# data7_20 = Dataset(str(mydir20)+myfile20[7], mode='r')\n",
    "#data8_20 = Dataset(str(mydir20)+myfile20[8], mode='r')\n",
    "#data9_20 = Dataset(str(mydir20)+myfile20[9], mode='r')"
   ]
  },
  {
   "cell_type": "code",
   "execution_count": 98,
   "metadata": {},
   "outputs": [
    {
     "name": "stdout",
     "output_type": "stream",
     "text": [
      "25\n",
      "50\n",
      "100\n",
      "200\n",
      "400\n",
      "800\n"
     ]
    }
   ],
   "source": [
    "print(data0_20.getncattr('sigma'))\n",
    "print(data1_20.getncattr('sigma'))\n",
    "print(data2_20.getncattr('sigma'))\n",
    "print(data3_20.getncattr('sigma')) \n",
    "print(data4_20.getncattr('sigma'))\n",
    "print(data5_20.getncattr('sigma'))\n",
    "# print(data6_20.getncattr('sigma'))\n",
    "# print(data7_20.getncattr('sigma'))"
   ]
  },
  {
   "cell_type": "code",
   "execution_count": 99,
   "metadata": {},
   "outputs": [],
   "source": [
    "w_filt20 = np.zeros((6,240,240,100))\n",
    "\n",
    "w_filt20[0,:,:,:] = data0_20.variables['w_on_w_r'][0,:,:,:]\n",
    "w_filt20[1,:,:,:] = data1_20.variables['w_on_w_r'][0,:,:,:]\n",
    "w_filt20[2,:,:,:] = data2_20.variables['w_on_w_r'][0,:,:,:]\n",
    "w_filt20[3,:,:,:] = data3_20.variables['w_on_w_r'][0,:,:,:]\n",
    "w_filt20[4,:,:,:] = data4_20.variables['w_on_w_r'][0,:,:,:]\n",
    "w_filt20[5,:,:,:] = data5_20.variables['w_on_w_r'][0,:,:,:]"
   ]
  },
  {
   "cell_type": "code",
   "execution_count": 46,
   "metadata": {},
   "outputs": [],
   "source": [
    "w_pi_over2_gauss = np.zeros((2,240,240,100))\n",
    "\n",
    "w_pi_over2_gauss[0] = data20f.variables['w_on_p_r'][0,:,:,:]\n",
    "w_pi_over2_gauss[1] = data20_4D.variables['w_on_p_r'][0,:,:,:]"
   ]
  },
  {
   "cell_type": "code",
   "execution_count": 11,
   "metadata": {},
   "outputs": [],
   "source": [
    "mydir20k = '/storage/silver/scenario/si818415/phd/20mLES/20m_kcut/'\n",
    "\n",
    "myfile20k = [\"cbl_13200_wave_cutoff_filter_do06.nc\"]\n",
    "\n",
    "for i in range(6):\n",
    "    myfile20k.append(\"cbl_13200_wave_cutoff_filter_wc0{}.nc\".format(str(i)))\n",
    "    \n",
    "data0_20k = Dataset(str(mydir20k)+myfile20k[0], mode='r') #original domain with 20m spacing\n",
    "data1_20k = Dataset(str(mydir20k)+myfile20k[1], mode='r')\n",
    "data2_20k = Dataset(str(mydir20k)+myfile20k[2], mode='r')\n",
    "data3_20k = Dataset(str(mydir20k)+myfile20k[3], mode='r')\n",
    "data4_20k = Dataset(str(mydir20k)+myfile20k[4], mode='r')\n",
    "data5_20k = Dataset(str(mydir20k)+myfile20k[5], mode='r')\n",
    "data6_20k = Dataset(str(mydir20k)+myfile20k[6], mode='r')\n",
    "# data7_20k = Dataset(str(mydir20k)+myfile20k[7], mode='r')\n",
    "# data8_20k = Dataset(str(mydir20k)+myfile20k[8], mode='r')"
   ]
  },
  {
   "cell_type": "code",
   "execution_count": 106,
   "metadata": {},
   "outputs": [
    {
     "name": "stdout",
     "output_type": "stream",
     "text": [
      "-3.141592653589793\n",
      "24.999999999999996\n",
      "49.99999999999999\n",
      "99.99999999999999\n",
      "199.99999999999997\n",
      "399.99999999999994\n",
      "799.9999999999999\n"
     ]
    }
   ],
   "source": [
    "print(np.pi/data0_20k.getncattr('wavenumber'))\n",
    "print(np.pi/data1_20k.getncattr('wavenumber'))\n",
    "print(np.pi/data2_20k.getncattr('wavenumber'))\n",
    "print(np.pi/data3_20k.getncattr('wavenumber'))\n",
    "print(np.pi/data4_20k.getncattr('wavenumber'))\n",
    "print(np.pi/data5_20k.getncattr('wavenumber'))\n",
    "print(np.pi/data6_20k.getncattr('wavenumber'))"
   ]
  },
  {
   "cell_type": "code",
   "execution_count": 12,
   "metadata": {},
   "outputs": [],
   "source": [
    "w_filt20k = np.zeros((7,240,240,100))\n",
    "\n",
    "w_filt20k[0,:,:,:] = w_run20 \n",
    "w_filt20k[1,:,:,:] = data1_20k.variables['w_on_w_r'][0,:,:,:]\n",
    "w_filt20k[2,:,:,:] = data2_20k.variables['w_on_w_r'][0,:,:,:]\n",
    "w_filt20k[3,:,:,:] = data3_20k.variables['w_on_w_r'][0,:,:,:]\n",
    "w_filt20k[4,:,:,:] = data4_20k.variables['w_on_w_r'][0,:,:,:]\n",
    "w_filt20k[5,:,:,:] = data5_20k.variables['w_on_w_r'][0,:,:,:]\n",
    "w_filt20k[6,:,:,:] = data6_20k.variables['w_on_w_r'][0,:,:,:]"
   ]
  },
  {
   "cell_type": "code",
   "execution_count": 107,
   "metadata": {},
   "outputs": [
    {
     "name": "stdout",
     "output_type": "stream",
     "text": [
      "Preparing map\n",
      "Preparing map\n",
      "Preparing map\n",
      "Preparing map\n",
      "Preparing map\n",
      "Preparing map\n"
     ]
    }
   ],
   "source": [
    "dx = dy = 20 #metres\n",
    "\n",
    "options_spec = {\n",
    "           'spec_method': 'Durran',    # [Durran, ndimage] Use Durran method \n",
    "                                        # (which actually also uses ndimage),\n",
    "                                       #   or faster, less accurate ndimage method\n",
    "           'spec_compensation': False, # With spec_method: 'durran', use Durran/Tanguay method \n",
    "                                        # to compensate for systematic \n",
    "                                       # noise in the annular summation (does not preserve energy)\n",
    "           'spec_restrict': False       # With spec_method: 'durran', restrict the spec_2d\n",
    "                                        # result to values below the Nyquist frequency.\n",
    "             }\n",
    "\n",
    "\n",
    "#w_spec_filt0k, w_kpo_filt0k = f.spectra_2d(w_filt20k[0,:,:,:], dx, dy, options_spec)\n",
    "#print(\"sigma 25\")\n",
    "w_spec_filt1k, w_kpo_filt1k = f.spectra_2d(w_filt20k[1,:,:,:], dx, dy, options_spec)\n",
    "#print(\"sigma 50\")\n",
    "w_spec_filt2k, w_kpo_filt2k = f.spectra_2d(w_filt20k[2,:,:,:], dx, dy, options_spec)\n",
    "#print(\"sigma 100\")\n",
    "w_spec_filt3k, w_kpo_filt3k = f.spectra_2d(w_filt20k[3,:,:,:], dx, dy, options_spec)\n",
    "#print(\"sigma 200\")\n",
    "w_spec_filt4k, w_kpo_filt4k = f.spectra_2d(w_filt20k[4,:,:,:], dx, dy, options_spec)\n",
    "#print(\"sigma 400\")\n",
    "w_spec_filt5k, w_kpo_filt5k = f.spectra_2d(w_filt20k[5,:,:,:], dx, dy, options_spec)\n",
    "#print(\"sigma 522\")\n",
    "w_spec_filt6k, w_kpo_filt6k = f.spectra_2d(w_filt20k[6,:,:,:], dx, dy, options_spec)\n",
    "#print(\"sigma 522\")"
   ]
  },
  {
   "cell_type": "code",
   "execution_count": 32,
   "metadata": {},
   "outputs": [],
   "source": [
    "file20g = '/storage/silver/MONC_data/Alanna/20m_gauss_dyn/'\n",
    "myfile = []\n",
    "for i in range(4):\n",
    "    myfile.append(f'cbl_13200__filter_ga{i:02d}.nc')\n",
    "                  \n",
    "data20g_2D = Dataset(file20g+str(myfile[0]), mode='r')\n",
    "data20g_4D = Dataset(file20g+str(myfile[1]), mode='r')\n",
    "data20g_8D = Dataset(file20g+str(myfile[2]), mode='r')\n",
    "data20g_16D = Dataset(file20g+str(myfile[3]), mode='r')"
   ]
  },
  {
   "cell_type": "code",
   "execution_count": 90,
   "metadata": {},
   "outputs": [
    {
     "name": "stdout",
     "output_type": "stream",
     "text": [
      "16.32993161855452\n"
     ]
    }
   ],
   "source": [
    "print(data20g_2D.getncattr('sigma'))"
   ]
  },
  {
   "cell_type": "code",
   "execution_count": 34,
   "metadata": {},
   "outputs": [],
   "source": [
    "w_filt20g_dyn = np.zeros((4,240,240,100))\n",
    "\n",
    "w_filt20g_dyn[0,:,:,:] = data20g_2D.variables['w_on_p_r'][0,:,:,:]\n",
    "w_filt20g_dyn[1,:,:,:] = data20g_4D.variables['w_on_p_r'][0,:,:,:]\n",
    "w_filt20g_dyn[2,:,:,:] = data20g_8D.variables['w_on_p_r'][0,:,:,:]\n",
    "w_filt20g_dyn[3,:,:,:] = data20g_16D.variables['w_on_p_r'][0,:,:,:]"
   ]
  },
  {
   "cell_type": "markdown",
   "metadata": {},
   "source": [
    "# Calcs"
   ]
  },
  {
   "cell_type": "code",
   "execution_count": 13,
   "metadata": {},
   "outputs": [],
   "source": [
    "Q_star = 241/(1*1004) # 0.24\n",
    "w_star = 2"
   ]
  },
  {
   "cell_type": "markdown",
   "metadata": {},
   "source": [
    "# Spectra"
   ]
  },
  {
   "cell_type": "code",
   "execution_count": 56,
   "metadata": {
    "scrolled": true
   },
   "outputs": [
    {
     "name": "stdout",
     "output_type": "stream",
     "text": [
      "Preparing map\n",
      "5\n",
      "Preparing map\n",
      "Preparing map\n",
      "25\n",
      "Preparing map\n",
      "Preparing map\n",
      "100\n",
      "Preparing map\n",
      "Preparing map\n",
      "Preparing map\n"
     ]
    }
   ],
   "source": [
    "dx = dy = [5,20,25,50,100,200,400,800] #metres\n",
    "\n",
    "options_spec = {\n",
    "           'spec_method': 'Durran',    # [Durran, ndimage] Use Durran method \n",
    "                                        # (which actually also uses ndimage),\n",
    "                                       #   or faster, less accurate ndimage method\n",
    "           'spec_compensation': False, # With spec_method: 'durran', use Durran/Tanguay method \n",
    "                                        # to compensate for systematic \n",
    "                                       # noise in the annular summation (does not preserve energy)\n",
    "           'spec_restrict': False       # With spec_method: 'durran', restrict the spec_2d\n",
    "                                        # result to values below the Nyquist frequency.\n",
    "             }\n",
    "\n",
    "\n",
    "w_spec5, w_kpo5 = f.spectra_2d(w_run5[:,:,:], dx[0], dy[0], options_spec)\n",
    "print(5)\n",
    "w_spec20, w_kpo20 = f.spectra_2d(w_run20[:,:,:], dx[1], dy[1], options_spec)\n",
    "w_spec25, w_kpo25 = f.spectra_2d(w_run25a[0,:,:,:], dx[2], dy[2], options_spec)\n",
    "print(25)\n",
    "w_spec50, w_kpo50 = f.spectra_2d(w_run50[:,:,:], dx[3], dy[3], options_spec)\n",
    "w_spec100, w_kpo100 = f.spectra_2d(w_run100[:,:,:], dx[4], dy[4], options_spec)\n",
    "print(100)\n",
    "w_spec200, w_kpo200 = f.spectra_2d(w_run200[:,:,:], dx[5], dy[5], options_spec)\n",
    "w_spec400, w_kpo400 = f.spectra_2d(w_run400[:,:,:], dx[6], dy[6], options_spec)\n",
    "w_spec800, w_kpo800 = f.spectra_2d(w_run800[:,:,:], dx[7], dy[7], options_spec)"
   ]
  },
  {
   "cell_type": "code",
   "execution_count": 100,
   "metadata": {},
   "outputs": [
    {
     "name": "stdout",
     "output_type": "stream",
     "text": [
      "Preparing map\n",
      "sigma 16\n",
      "Preparing map\n",
      "sigma 32\n",
      "Preparing map\n",
      "sigma 65\n",
      "Preparing map\n",
      "sigma 130\n",
      "Preparing map\n",
      "sigma 261\n",
      "Preparing map\n",
      "sigma 522\n"
     ]
    }
   ],
   "source": [
    "dx = dy = 20 #metres\n",
    "\n",
    "options_spec = {\n",
    "           'spec_method': 'Durran',    # [Durran, ndimage] Use Durran method \n",
    "                                        # (which actually also uses ndimage),\n",
    "                                       #   or faster, less accurate ndimage method\n",
    "           'spec_compensation': False, # With spec_method: 'durran', use Durran/Tanguay method \n",
    "                                        # to compensate for systematic \n",
    "                                       # noise in the annular summation (does not preserve energy)\n",
    "           'spec_restrict': False       # With spec_method: 'durran', restrict the spec_2d\n",
    "                                        # result to values below the Nyquist frequency.\n",
    "             }\n",
    "\n",
    "\n",
    "w_spec_filt0, w_kpo_filt0 = f.spectra_2d(w_filt20[0,:,:,:], dx, dy, options_spec)\n",
    "print(\"sigma 25\")\n",
    "w_spec_filt1, w_kpo_filt1 = f.spectra_2d(w_filt20[1,:,:,:], dx, dy, options_spec)\n",
    "print(\"sigma 50\")\n",
    "w_spec_filt2, w_kpo_filt2 = f.spectra_2d(w_filt20[2,:,:,:], dx, dy, options_spec)\n",
    "print(\"sigma 100\")\n",
    "w_spec_filt3, w_kpo_filt3 = f.spectra_2d(w_filt20[3,:,:,:], dx, dy, options_spec)\n",
    "print(\"sigma 200\")\n",
    "w_spec_filt4, w_kpo_filt4 = f.spectra_2d(w_filt20[4,:,:,:], dx, dy, options_spec)\n",
    "print(\"sigma 400\")\n",
    "w_spec_filt5, w_kpo_filt5 = f.spectra_2d(w_filt20[5,:,:,:], dx, dy, options_spec)\n",
    "print(\"sigma 522\")"
   ]
  },
  {
   "cell_type": "code",
   "execution_count": 120,
   "metadata": {
    "scrolled": false
   },
   "outputs": [
    {
     "data": {
      "image/png": "[encoded data removed]",
      "text/plain": [
       "<Figure size 720x432 with 1 Axes>"
      ]
     },
     "metadata": {
      "needs_background": "light"
     },
     "output_type": "display_data"
    }
   ],
   "source": [
    "fig, ax = plt.subplots(figsize=(10,6), constrained_layout=True)\n",
    "\n",
    "turb_slope_x = np.linspace(0.02,0.4,100)\n",
    "turb_slope_y = turb_slope_x**(-5/3)\n",
    "\n",
    "filt_slope_x = np.linspace(0.5,1,50)\n",
    "filt_slope_y = filt_slope_x**(-11/2)\n",
    "\n",
    "my_w_star = w_star**2\n",
    "z_set = [100,25]\n",
    "z_i = 1080\n",
    "\n",
    "#ax.loglog(w_kpo5*z_i/(2*np.pi), w_spec5[:,z_set[0]]/my_w_star, label=\"5m res\")\n",
    "ax.loglog(w_kpo20*z_i/(2*np.pi), w_spec20[:,z_set[1]]/my_w_star, label=\"20m res\")\n",
    "#ax.loglog(w_kpo25*z_i/(2*np.pi), w_spec25[:,z_set[1]]/my_w_star, label=\"25m res\")\n",
    "#ax.loglog(w_kpo5[36]*z_i/(2*np.pi), w_spec5[36,z_set[0]]/my_w_star, 'ko', label=\"5m crit\")\n",
    "ax.loglog(w_kpo50*z_i/(2*np.pi), w_spec50[:,z_set[1]]/my_w_star, label=\"50m res\")\n",
    "# ax.loglog(w_kpo100*z_i/(2*np.pi), w_spec100[:,z_set[1]]/my_w_star, label=\"100m res\")\n",
    "# ax.loglog(w_kpo200*z_i/(2*np.pi), w_spec200[:,z_set[1]]/my_w_star, label=\"200m res\")\n",
    "# ax.loglog(w_kpo400*z_i/(2*np.pi), w_spec400[:,z_set[1]]/my_w_star, label=\"400m res\")\n",
    "# ax.loglog(w_kpo800*z_i/(2*np.pi), w_spec800[:,z_set[1]]/my_w_star, label=\"800m res\")\n",
    "ax.loglog(90*turb_slope_x, 0.015*turb_slope_y, 'k-')\n",
    "ax.text(10, 1.6, r'$k^{-5/3}$', fontsize=14)\n",
    "\n",
    "ax.loglog(w_kpo_filt0*z_i/(2*np.pi), w_spec_filt0[:,z_set[1]]/my_w_star, '--', label=\"sigma 25\")\n",
    "# ax.loglog(w_kpo_filt1*z_i/(2*np.pi), w_spec_filt1[:,z_set[1]]/my_w_star, '--', label=\"sigma 50\")\n",
    "# ax.loglog(w_kpo_filt2*z_i/(2*np.pi), w_spec_filt2[:,z_set[1]]/my_w_star, '--', label=\"sigma 100\")\n",
    "# ax.loglog(w_kpo_filt3*z_i/(2*np.pi), w_spec_filt3[:,z_set[1]]/my_w_star, '--', label=\"sigma 200\")\n",
    "# ax.loglog(w_kpo_filt4*z_i/(2*np.pi), w_spec_filt4[:,z_set[1]]/my_w_star, '--', label=\"sigma 400\")\n",
    "# ax.loglog(w_kpo_filt5*z_i/(2*np.pi), w_spec_filt5[:,z_set[1]]/my_w_star, '--', label=\"sigma 800\")\n",
    "\n",
    "w_spec_filt3k, w_kpo_filt3k \n",
    "\n",
    "#ax.loglog(w_kpo20*z_i/(2*np.pi), w_spec20[:,z_set[1]]/my_w_star, label=\"20m res\")\n",
    "#ax.loglog(w_kpo_filt1k*z_i/(2*np.pi), w_spec_filt1k[:,z_set[1]]/my_w_star, label=\"25m res\")\n",
    "#ax.loglog(w_kpo5[36]*z_i/(2*np.pi), w_spec5[36,z_set[0]]/my_w_star, 'ko', label=\"5m crit\")\n",
    "ax.loglog(w_kpo_filt2k*z_i/(2*np.pi), w_spec_filt2k[:,z_set[1]]/my_w_star, '-.', label=\"50m res\")\n",
    "# ax.loglog(w_kpo_filt3k*z_i/(2*np.pi), w_spec_filt3k[:,z_set[1]]/my_w_star, '-.', label=\"100m res\")\n",
    "# ax.loglog(w_kpo_filt4k*z_i/(2*np.pi), w_spec_filt4k[:,z_set[1]]/my_w_star, '-.', label=\"200m res\")\n",
    "# ax.loglog(w_kpo_filt5k*z_i/(2*np.pi), w_spec_filt5k[:,z_set[1]]/my_w_star, '-.', label=\"400m res\")\n",
    "# ax.loglog(w_kpo_filt6k*z_i/(2*np.pi), w_spec_filt6k[:,z_set[1]]/my_w_star, '-.', label=\"800m res\")\n",
    "ax.loglog(90*turb_slope_x, 0.015*turb_slope_y, 'k-')\n",
    "\n",
    "\n",
    "#ax.loglog(125*filt_slope_x, 0.0006*filt_slope_y, 'k-')\n",
    "#ax.text(80, 0.01, r'$k^{-11/2}$', fontsize=14)\n",
    "ax.legend(fontsize=12, loc='lower left')\n",
    "ax.set_xlabel(\"$k z_i$\", fontsize=14)\n",
    "ax.set_ylabel(\"$\\\\mathcal{S}$ $(w')/w_*^2$\", fontsize=14) #(\"$\\mathcal{S}$ ($w'$)\", fontsize=14)\n",
    "ax.set_ylim(ymax=1e2, ymin=1e-6)\n",
    "ax.set_xlim(xmax=200, xmin=0.003)\n",
    "#plt.xlim(xmax=1e0, xmin=1e-3)\n",
    "\n",
    "def ktol(kz):\n",
    "    l = (1/kz)*np.mean(z_i) #2*np.pi/k\n",
    "    return l\n",
    "\n",
    "\n",
    "def ltok(l):\n",
    "    kz = (1/l)*np.mean(z_i) #2*np.pi/l\n",
    "    return kz\n",
    "\n",
    "\n",
    "secax = ax.secondary_xaxis('top', functions=(ltok, ktol))\n",
    "secax.set_xlabel('$\\\\lambda$', fontsize=14)\n",
    "\n",
    "plt.savefig(plot_dir+\"runs_w_spec.png\", pad_inches=0)"
   ]
  },
  {
   "cell_type": "code",
   "execution_count": null,
   "metadata": {},
   "outputs": [],
   "source": [
    "truth_line = truth(w_kpo5)\n",
    "truth_spec = np.zeros_like(truth_line)\n",
    "z_set = [100,25]\n",
    "\n",
    "for i in [0,1,3,5]:\n",
    "    if i == 5:\n",
    "        j = i-1\n",
    "    else: \n",
    "        j = i\n",
    "    truth_spec[j] = w_spec5[i,z_set[0]]\n",
    "    \n",
    "filt_w_spec20 = sig.savgol_filter(w_spec20[:, z_set[1]], 3, 2)\n",
    "    \n",
    "truth_spec[2] = filt_w_spec20[2]\n",
    "truth_spec[4] = w_spec20[5, z_set[1]]\n",
    "\n",
    "for k in range(len(truth_line)-5):\n",
    "    truth_spec[k+5] = truth_line[k+5]\n",
    "    \n",
    "truth_spec[-1] = truth_line[-1]\n",
    "\n",
    "truth_spec = sig.savgol_filter(truth_spec,5,3)\n",
    "temp = sig.savgol_filter(truth_spec,5,3)\n",
    "truth_spec[5] = temp[5]"
   ]
  },
  {
   "cell_type": "code",
   "execution_count": 88,
   "metadata": {},
   "outputs": [
    {
     "ename": "NameError",
     "evalue": "name 'truth' is not defined",
     "output_type": "error",
     "traceback": [
      "\u001b[0;31m---------------------------------------------------------------------------\u001b[0m",
      "\u001b[0;31mNameError\u001b[0m                                 Traceback (most recent call last)",
      "\u001b[0;32m<ipython-input-88-d11e7cae06a6>\u001b[0m in \u001b[0;36m<module>\u001b[0;34m\u001b[0m\n\u001b[1;32m      1\u001b[0m \u001b[0mfig\u001b[0m\u001b[0;34m,\u001b[0m \u001b[0max\u001b[0m \u001b[0;34m=\u001b[0m \u001b[0mplt\u001b[0m\u001b[0;34m.\u001b[0m\u001b[0msubplots\u001b[0m\u001b[0;34m(\u001b[0m\u001b[0mfigsize\u001b[0m\u001b[0;34m=\u001b[0m\u001b[0;34m(\u001b[0m\u001b[0;36m8\u001b[0m\u001b[0;34m,\u001b[0m\u001b[0;36m6\u001b[0m\u001b[0;34m)\u001b[0m\u001b[0;34m,\u001b[0m \u001b[0mconstrained_layout\u001b[0m\u001b[0;34m=\u001b[0m\u001b[0;32mTrue\u001b[0m\u001b[0;34m)\u001b[0m\u001b[0;34m\u001b[0m\u001b[0;34m\u001b[0m\u001b[0m\n\u001b[1;32m      2\u001b[0m \u001b[0;34m\u001b[0m\u001b[0m\n\u001b[0;32m----> 3\u001b[0;31m \u001b[0mtruth_line\u001b[0m \u001b[0;34m=\u001b[0m \u001b[0mtruth\u001b[0m\u001b[0;34m(\u001b[0m\u001b[0mw_kpo5\u001b[0m\u001b[0;34m)\u001b[0m\u001b[0;34m\u001b[0m\u001b[0;34m\u001b[0m\u001b[0m\n\u001b[0m\u001b[1;32m      4\u001b[0m \u001b[0;34m\u001b[0m\u001b[0m\n\u001b[1;32m      5\u001b[0m \u001b[0mmy_w_star\u001b[0m \u001b[0;34m=\u001b[0m \u001b[0mw_star\u001b[0m\u001b[0;34m**\u001b[0m\u001b[0;36m2\u001b[0m\u001b[0;34m\u001b[0m\u001b[0;34m\u001b[0m\u001b[0m\n",
      "\u001b[0;31mNameError\u001b[0m: name 'truth' is not defined"
     ]
    },
    {
     "data": {
      "image/png": "[encoded data removed]",
      "text/plain": [
       "<Figure size 576x432 with 1 Axes>"
      ]
     },
     "metadata": {
      "needs_background": "light"
     },
     "output_type": "display_data"
    }
   ],
   "source": [
    "fig, ax = plt.subplots(figsize=(8,6), constrained_layout=True)\n",
    "\n",
    "truth_line = truth(w_kpo5)\n",
    "\n",
    "my_w_star = w_star**2\n",
    "z_set = [100,25]\n",
    "z_i = 1080\n",
    "\n",
    "ax.loglog(w_kpo5, w_spec5[:,z_set[0]], label=\"5m res\")\n",
    "#ax.loglog(w_kpo5[36], w_spec5[36,z_set[0]], 'ko', label=\"5m crit\")\n",
    "ax.loglog(w_kpo20, w_spec20[:,z_set[1]], label=\"20m res\")\n",
    "ax.loglog(w_kpo25, w_spec25[:,z_set[1]], label=\"25m res\")\n",
    "ax.loglog(w_kpo50, w_spec50[:,z_set[1]], label=\"50m res\")\n",
    "ax.loglog(w_kpo100, w_spec100[:,z_set[1]], label=\"100m res\")\n",
    "ax.loglog(w_kpo200, w_spec200[:,z_set[1]], label=\"200m res\")\n",
    "ax.loglog(w_kpo400, w_spec400[:,z_set[1]], label=\"400m res\")\n",
    "ax.loglog(w_kpo800, w_spec800[:,z_set[1]], label=\"800m res\")\n",
    "\n",
    "ax.loglog(w_kpo5, truth_spec, 'k', label=\"truth spectra\")\n",
    "\n",
    "#ax.loglog(w_kpo5[5], truth_spec[5], 'ko', label=\"5m crit\")\n",
    "\n",
    "#ax.loglog(w_kpo5, truth_line, 'k', label=\"truth line\")\n",
    "#ax.text(10, 1.6, r'$k^{-5/3}$', fontsize=14)\n",
    "\n",
    "ax.legend(fontsize=12, loc='upper right')\n",
    "ax.set_xlabel(\"$k$\", fontsize=14)\n",
    "ax.set_ylabel(\"$\\\\mathcal{S}$ $(w')$\", fontsize=14) #(\"$\\mathcal{S}$ ($w'$)\", fontsize=14)\n",
    "ax.set_ylim(ymax=2e2, ymin=5e-3)\n",
    "ax.set_xlim(xmax=1, xmin=1e-3)\n",
    "#plt.xlim(xmax=1e0, xmin=1e-3)\n",
    "\n",
    "def ktol(kz):\n",
    "    l = (1/kz) #2*np.pi/k\n",
    "    return l\n",
    "\n",
    "\n",
    "def ltok(l):\n",
    "    kz = (1/l) #2*np.pi/l\n",
    "    return kz\n",
    "\n",
    "\n",
    "secax = ax.secondary_xaxis('top', functions=(ltok, ktol))\n",
    "secax.set_xlabel('$\\\\lambda$', fontsize=14)\n",
    "\n",
    "plt.savefig(plot_dir+\"runs_w_spec_and_truth.png\", pad_inches=0)"
   ]
  },
  {
   "cell_type": "code",
   "execution_count": null,
   "metadata": {},
   "outputs": [],
   "source": [
    "def truth(k, c = 0.01408366071):\n",
    "\n",
    "    turb_slope_x = k\n",
    "    turb_slope_y = c*turb_slope_x**(-5/3)\n",
    "    \n",
    "    truth = turb_slope_y\n",
    "    return truth"
   ]
  },
  {
   "cell_type": "code",
   "execution_count": null,
   "metadata": {},
   "outputs": [],
   "source": [
    "fig, ax = plt.subplots(figsize=(7,5), constrained_layout=True)\n",
    "\n",
    "truth5 = truth(w_kpo5)\n",
    "truth20 = truth(w_kpo20)\n",
    "truth25 = truth(w_kpo25)\n",
    "truth50 = truth(w_kpo50)\n",
    "truth100 = truth(w_kpo100)\n",
    "truth200 = truth(w_kpo200)\n",
    "truth400 = truth(w_kpo400)\n",
    "truth800 = truth(w_kpo800)\n",
    "\n",
    "\n",
    "ax.loglog(w_kpo5, sig.savgol_filter(w_spec5[:,z_set[0]], 3, 2)/truth5, label=\"$\\\\Delta =$ 5m \")\n",
    "ax.loglog(w_kpo20, sig.savgol_filter(w_spec20[:,z_set[1]], 3, 2)/truth20, label=\"$\\\\Delta =$ 20m \")\n",
    "ax.loglog(w_kpo25, sig.savgol_filter(w_spec25[:,z_set[1]], 3, 2)/truth25, label=\"$\\\\Delta =$ 25m \")\n",
    "ax.loglog(w_kpo50, sig.savgol_filter(w_spec50[:,z_set[1]], 3, 2)/truth50, label=\"$\\\\Delta =$ 50m \")\n",
    "ax.loglog(w_kpo100, sig.savgol_filter(w_spec100[:,z_set[1]], 3, 2)/truth100, label=\"$\\\\Delta =$ 100m \")\n",
    "ax.loglog(w_kpo200, sig.savgol_filter(w_spec200[:,z_set[1]], 3, 2)/truth200, label=\"$\\\\Delta =$ 200m \")\n",
    "ax.loglog(w_kpo400, sig.savgol_filter(w_spec400[:,z_set[1]], 3, 2)/truth400, label=\"$\\\\Delta =$ 400m \")\n",
    "ax.loglog(w_kpo800, sig.savgol_filter(w_spec800[:,z_set[1]], 3, 2)/truth800, label=\"$\\\\Delta =$ 800m\")\n",
    "\n",
    "#ax.loglog(turb_slope_x, turb_slope_y, 'k-')\n",
    "\n",
    "ax.legend(fontsize=12, loc='lower left')\n",
    "ax.set_xlabel(\"k $\\\\Delta$ ($k = 2 \\pi$ / $\\lambda$)\", fontsize=14)\n",
    "ax.set_ylabel(\"$\\\\mathcal{S}$ $(w')$ / $\\\\mathcal{S}_{truth}$ $(w')$\", fontsize=16) \n",
    "\n",
    "ax.set_ylim(ymax=1.7, ymin=1e-3)\n",
    "ax.set_xlim(xmax=1, xmin=0.001)\n",
    "plt.hlines(1, -2, 2, 'k')\n",
    "\n",
    "def ktol(k):\n",
    "    l = (2*np.pi/k) #2*np.pi/k\n",
    "    return l\n",
    "\n",
    "\n",
    "def ltok(l):\n",
    "    k = (2*np.pi/l) #2*np.pi/l\n",
    "    return k\n",
    "\n",
    "\n",
    "secax = ax.secondary_xaxis('top', functions=(ltok, ktol))\n",
    "secax.set_xlabel('$\\\\lambda$', fontsize=14)\n",
    "\n",
    "plt.savefig(plot_dir+\"shape_smag_w_spec.png\", pad_inches=0)"
   ]
  },
  {
   "cell_type": "code",
   "execution_count": null,
   "metadata": {},
   "outputs": [],
   "source": [
    "fig, ax = plt.subplots(figsize=(7,5), constrained_layout=True)\n",
    "\n",
    "truth5 = truth(w_kpo5)\n",
    "truth20 = truth(w_kpo20)\n",
    "truth25 = truth(w_kpo25)\n",
    "truth50 = truth(w_kpo50)\n",
    "truth100 = truth(w_kpo100)\n",
    "truth200 = truth(w_kpo200)\n",
    "truth400 = truth(w_kpo400)\n",
    "truth800 = truth(w_kpo800)\n",
    "\n",
    "\n",
    "ax.loglog(w_kpo5, sig.savgol_filter(w_spec5[:,z_set[0]], 15, 2)/truth5, label=\"5m res/line\")\n",
    "\n",
    "#ax.loglog(w_kpo5, sig.savgol_filter(w_spec5[:,z_set[0]], 15, 2)/truth_spec, label=\"5m res/spectra\")\n",
    "\n",
    "ax.loglog(w_kpo20, sig.savgol_filter(w_spec20[:,z_set[1]], 15, 2)/truth20, label=\"20m res\")\n",
    "ax.loglog(w_kpo25, sig.savgol_filter(w_spec25[:,z_set[1]], 15, 2)/truth25, label=\"25m res\")\n",
    "ax.loglog(w_kpo50, sig.savgol_filter(w_spec50[:,z_set[1]], 15, 2)/truth50, label=\"50m res\")\n",
    "# ax.loglog(w_kpo100, sig.savgol_filter(w_spec100[:,z_set[1]], 9, 2)/truth100, label=\"100m res\")\n",
    "# ax.loglog(w_kpo200, sig.savgol_filter(w_spec200[:,z_set[1]], 15, 2)/truth200, label=\"200m res\")\n",
    "# ax.loglog(w_kpo400, sig.savgol_filter(w_spec400[:,z_set[1]], 15, 2)/truth400, label=\"400m res\")\n",
    "# ax.loglog(w_kpo800, sig.savgol_filter(w_spec800[:,z_set[1]], 15, 2)/truth800, label=\"800m res\")\n",
    "\n",
    "#ax.loglog(turb_slope_x, turb_slope_y, 'k-')\n",
    "\n",
    "ax.legend(fontsize=12, loc='lower left')\n",
    "ax.set_xlabel(\"$k = 2 \\\\pi$ / $\\lambda$ \", fontsize=14)\n",
    "ax.set_ylabel(\"$\\\\mathcal{S}$ $(w')$ / $\\\\mathcal{S}_{truth}$ $(w')$\", fontsize=14) \n",
    "\n",
    "ax.set_ylim(ymax=2, ymin=1e-2y)\n",
    "ax.set_xlim(xmax=0.8, xmin=0.004)\n",
    "plt.hlines(1, -2, 2, 'k')\n",
    "\n",
    "\n",
    "def ktol(k):\n",
    "    l = (2*np.pi/k) #2*np.pi/k\n",
    "    return l\n",
    "\n",
    "\n",
    "def ltok(l):\n",
    "    k = (2*np.pi/l) #2*np.pi/l\n",
    "    return k\n",
    "\n",
    "\n",
    "secax = ax.secondary_xaxis('top', functions=(ltok, ktol))\n",
    "secax.set_xlabel('$\\\\lambda$', fontsize=14)\n",
    "\n",
    "plt.savefig(plot_dir+\"shape_smag_w_spec_specific.png\", pad_inches=0)"
   ]
  },
  {
   "cell_type": "markdown",
   "metadata": {},
   "source": [
    "Scale differently: k dx\n",
    "\n",
    "take 5 m as truth\n",
    "\n",
    "time av"
   ]
  },
  {
   "cell_type": "code",
   "execution_count": null,
   "metadata": {},
   "outputs": [],
   "source": [
    "print(w_kpo5[33], w_spec5[33,100])"
   ]
  },
  {
   "cell_type": "code",
   "execution_count": null,
   "metadata": {},
   "outputs": [],
   "source": [
    "def integ_spec(spec, k, Delta):\n",
    "    \"\"\"Integrates the spectra down to the \n",
    "    wavenumber corresponding to 2Delta\"\"\"\n",
    "    \n",
    "    k_stop = np.pi/Delta\n",
    "    index_delete = np.where(k >= k_stop)[0]\n",
    "\n",
    "    new_spec = np.delete(spec, index_delete)\n",
    "    new_k = np.delete(k, index_delete)\n",
    "    \n",
    "    #     new_k = k\n",
    "    #     new_spec = spec\n",
    "    \n",
    "    area = integrate.simps(new_spec, new_k)\n",
    "    \n",
    "    return area"
   ]
  },
  {
   "cell_type": "code",
   "execution_count": null,
   "metadata": {},
   "outputs": [],
   "source": [
    "def integ_spec_all_out(spec, k, Delta):\n",
    "    \"\"\"Integrates the spectra down to the \n",
    "    wavenumber corresponding to 2Delta\"\"\"\n",
    "    \n",
    "    k_stop = np.pi/Delta\n",
    "    index_delete = np.where(k >= k_stop)[0]\n",
    "\n",
    "    new_spec = np.delete(spec, index_delete)\n",
    "    new_k = np.delete(k, index_delete)\n",
    "    \n",
    "    #     new_k = k\n",
    "    #     new_spec = spec\n",
    "    \n",
    "    area = integrate.simps(new_spec, new_k)\n",
    "    \n",
    "    return area, k_stop, new_k, new_spec"
   ]
  },
  {
   "cell_type": "code",
   "execution_count": null,
   "metadata": {},
   "outputs": [],
   "source": [
    "integ_truth5_all = integ_spec_all_out(truth_spec, w_kpo5, 5)\n",
    "integ_truth20_all = integ_spec_all_out(truth_spec, w_kpo5, 20)\n",
    "integ_truth25_all = integ_spec_all_out(truth_spec, w_kpo5, 25)\n",
    "integ_truth50_all = integ_spec_all_out(truth_spec, w_kpo5, 50)\n",
    "integ_truth100_all = integ_spec_all_out(truth_spec, w_kpo5, 100)\n",
    "integ_truth200_all = integ_spec_all_out(truth_spec, w_kpo5, 200)\n",
    "integ_truth400_all = integ_spec_all_out(truth_spec, w_kpo5, 400)\n",
    "integ_truth800_all = integ_spec_all_out(truth_spec, w_kpo5, 800)\n",
    "\n",
    "integ_5_all = integ_spec_all_out(w_spec5[:,100], w_kpo5, 5)\n",
    "integ_20_all = integ_spec_all_out(w_spec20[:,25], w_kpo20, 20)\n",
    "integ_25_all = integ_spec_all_out(w_spec25[:,25], w_kpo25, 25)\n",
    "integ_50_all = integ_spec_all_out(w_spec50[:,25], w_kpo50, 50)\n",
    "integ_100_all = integ_spec_all_out(w_spec100[:,25], w_kpo100, 100)\n",
    "integ_200_all = integ_spec_all_out(w_spec200[:,25], w_kpo200, 200)\n",
    "integ_400_all = integ_spec_all_out(w_spec400[:,25], w_kpo400, 400)\n",
    "integ_800_all = integ_spec_all_out(w_spec800[:,25], w_kpo800, 800)"
   ]
  },
  {
   "cell_type": "code",
   "execution_count": null,
   "metadata": {},
   "outputs": [],
   "source": [
    "fig, ax = plt.subplots(figsize=(8,6), constrained_layout=True)\n",
    "\n",
    "truth_line = truth(w_kpo5)\n",
    "\n",
    "my_w_star = w_star**2\n",
    "z_set = [100,25]\n",
    "z_i = 1080\n",
    "\n",
    "ax.loglog(integ_truth5_all[2], integ_truth5_all[3], label=\"5m res\")\n",
    "#ax.loglog(w_kpo5[36], w_spec5[36,z_set[0]], 'ko', label=\"5m crit\")\n",
    "ax.loglog(integ_truth20_all[2], integ_truth20_all[3], label=\"20m res\")\n",
    "ax.loglog(integ_truth25_all[2], integ_truth25_all[3], label=\"25m res\")\n",
    "ax.loglog(integ_truth50_all[2], integ_truth50_all[3], label=\"50m res\")\n",
    "ax.loglog(integ_truth100_all[2], integ_truth100_all[3], label=\"100m res\")\n",
    "ax.loglog(integ_truth200_all[2], integ_truth200_all[3], label=\"200m res\")\n",
    "ax.loglog(integ_truth400_all[2], integ_truth400_all[3], label=\"400m res\")\n",
    "ax.loglog(integ_truth800_all[2], integ_truth800_all[3], label=\"800m res\")\n",
    "\n",
    "# ax.loglog(integ_5_all[2], integ_5_all[3], label=\"5m res\")\n",
    "# #ax.loglog(w_kpo5[36], w_spec5[36,z_set[0]], 'ko', label=\"5m crit\")\n",
    "# ax.loglog(integ_20_all[2], integ_20_all[3], label=\"20m res\")\n",
    "# ax.loglog(integ_25_all[2], integ_25_all[3], label=\"25m res\")\n",
    "# ax.loglog(integ_50_all[2], integ_50_all[3], label=\"50m res\")\n",
    "# ax.loglog(integ_100_all[2], integ_100_all[3], label=\"100m res\")\n",
    "# ax.loglog(integ_200_all[2], integ_200_all[3], label=\"200m res\")\n",
    "# ax.loglog(integ_400_all[2], integ_400_all[3], label=\"400m res\")\n",
    "# ax.loglog(integ_800_all[2], integ_800_all[3], label=\"800m res\")\n",
    "\n",
    "# ax.loglog(w_kpo5, truth_spec, 'k', label=\"truth spectra\")\n",
    "\n",
    "#ax.loglog(w_kpo5[5], truth_spec[5], 'ko', label=\"5m crit\")\n",
    "\n",
    "#ax.loglog(w_kpo5, truth_line, 'k', label=\"truth line\")\n",
    "#ax.text(10, 1.6, r'$k^{-5/3}$', fontsize=14)\n",
    "\n",
    "ax.legend(fontsize=12, loc='upper right')\n",
    "ax.set_xlabel(\"$k$\", fontsize=14)\n",
    "ax.set_ylabel(\"$\\\\mathcal{S}$ $(w')$\", fontsize=14) #(\"$\\mathcal{S}$ ($w'$)\", fontsize=14)\n",
    "# ax.set_ylim(ymax=2e2, ymin=5e-3)\n",
    "# ax.set_xlim(xmax=1, xmin=1e-3)\n",
    "#plt.xlim(xmax=1e0, xmin=1e-3)\n",
    "\n",
    "def ktol(kz):\n",
    "    l = (1/kz) #2*np.pi/k\n",
    "    return l\n",
    "\n",
    "\n",
    "def ltok(l):\n",
    "    kz = (1/l) #2*np.pi/l\n",
    "    return kz\n",
    "\n",
    "\n",
    "secax = ax.secondary_xaxis('top', functions=(ltok, ktol))\n",
    "secax.set_xlabel('$\\\\lambda$', fontsize=14)\n",
    "\n",
    "plt.savefig(plot_dir+\"runs_w_spec_2Delta.png\", pad_inches=0)"
   ]
  },
  {
   "cell_type": "code",
   "execution_count": 4,
   "metadata": {},
   "outputs": [
    {
     "name": "stdout",
     "output_type": "stream",
     "text": [
      "(9, 5)\n"
     ]
    }
   ],
   "source": [
    "arr = np.zeros((9,5,2))\n",
    "\n",
    "arr1 = np.mean(arr, axis=2)\n",
    "print(np.shape(arr1))"
   ]
  },
  {
   "cell_type": "code",
   "execution_count": null,
   "metadata": {},
   "outputs": [],
   "source": [
    "integ_truth5 = integ_spec(truth_spec, w_kpo5, 5)\n",
    "integ_truth20 = integ_spec(truth_spec, w_kpo5, 20)\n",
    "integ_truth25 = integ_spec(truth_spec, w_kpo5, 25)\n",
    "integ_truth50 = integ_spec(truth_spec, w_kpo5, 50)\n",
    "integ_truth100 = integ_spec(truth_spec, w_kpo5, 100)\n",
    "integ_truth200 = integ_spec(truth_spec, w_kpo5, 200)\n",
    "integ_truth400 = integ_spec(truth_spec, w_kpo5, 400)\n",
    "integ_truth800 = integ_spec(truth_spec, w_kpo5, 800)\n",
    "\n",
    "integ_5 = integ_spec(w_spec5[:,100], w_kpo5, 5)\n",
    "integ_20 = integ_spec(w_spec20[:,25], w_kpo20, 20)\n",
    "integ_25 = integ_spec(w_spec25[:,25], w_kpo25, 25)\n",
    "integ_50 = integ_spec(w_spec50[:,25], w_kpo50, 50)\n",
    "integ_100 = integ_spec(w_spec100[:,25], w_kpo100, 100)\n",
    "integ_200 = integ_spec(w_spec200[:,25], w_kpo200, 200)\n",
    "integ_400 = integ_spec(w_spec400[:,25], w_kpo400, 400)\n",
    "integ_800 = integ_spec(w_spec800[:,25], w_kpo800, 800)"
   ]
  },
  {
   "cell_type": "code",
   "execution_count": null,
   "metadata": {
    "scrolled": false
   },
   "outputs": [],
   "source": [
    "fig, ax = plt.subplots(figsize=(7,5), constrained_layout=True)\n",
    "\n",
    "truth5 = truth(w_kpo5)\n",
    "truth20 = truth(w_kpo20)\n",
    "truth25 = truth(w_kpo25)\n",
    "truth50 = truth(w_kpo50)\n",
    "truth100 = truth(w_kpo100)\n",
    "truth200 = truth(w_kpo200)\n",
    "truth400 = truth(w_kpo400)\n",
    "truth800 = truth(w_kpo800)\n",
    "\n",
    "\n",
    "ax.loglog(w_kpo5*5, sig.savgol_filter(w_spec5[:,z_set[0]], 3, 2)/truth5, label=\"$\\\\Delta =$ 5m \")\n",
    "ax.loglog(w_kpo20*20, sig.savgol_filter(w_spec20[:,z_set[1]], 3, 2)/truth20, label=\"$\\\\Delta =$ 20m \")\n",
    "ax.loglog(w_kpo25*25, sig.savgol_filter(w_spec25[:,z_set[1]], 3, 2)/truth25, label=\"$\\\\Delta =$ 25m \")\n",
    "ax.loglog(w_kpo50*50, sig.savgol_filter(w_spec50[:,z_set[1]], 3, 2)/truth50, label=\"$\\\\Delta =$ 50m \")\n",
    "ax.loglog(w_kpo100*100, sig.savgol_filter(w_spec100[:,z_set[1]], 3, 2)/truth100, label=\"$\\\\Delta =$ 100m \")\n",
    "ax.loglog(w_kpo200*200, sig.savgol_filter(w_spec200[:,z_set[1]], 3, 2)/truth200, label=\"$\\\\Delta =$ 200m \")\n",
    "ax.loglog(w_kpo400*400, sig.savgol_filter(w_spec400[:,z_set[1]], 3, 2)/truth400, label=\"$\\\\Delta =$ 400m \")\n",
    "ax.loglog(w_kpo800*800, sig.savgol_filter(w_spec800[:,z_set[1]], 3, 2)/truth800, label=\"$\\\\Delta =$ 800m\")\n",
    "\n",
    "#ax.loglog(turb_slope_x, turb_slope_y, 'k-')\n",
    "\n",
    "ax.legend(fontsize=12, loc='lower left')\n",
    "ax.set_xlabel(\"k $\\\\Delta$ ($k = 2 \\pi$ / $\\lambda$)\", fontsize=14)\n",
    "ax.set_ylabel(\"$\\\\mathcal{S}$ $(w')$ / $\\\\mathcal{S}_{truth}$ $(w')$\", fontsize=16) \n",
    "\n",
    "ax.set_ylim(ymax=1.7, ymin=1e-3)\n",
    "ax.set_xlim(xmax=5, xmin=0.004)\n",
    "plt.hlines(1, -2, 50, 'k')\n",
    "\n",
    "def ktol(k):\n",
    "    l = (2*np.pi/k) #2*np.pi/k\n",
    "    return l\n",
    "\n",
    "\n",
    "def ltok(l):\n",
    "    k = (2*np.pi/l) #2*np.pi/l\n",
    "    return k\n",
    "\n",
    "\n",
    "secax = ax.secondary_xaxis('top', functions=(ltok, ktol))\n",
    "secax.set_xlabel('$\\\\lambda$', fontsize=14)\n",
    "\n",
    "plt.savefig(plot_dir+\"shape_smag_w_spec_Scaled_Delta.png\", pad_inches=0)"
   ]
  },
  {
   "cell_type": "code",
   "execution_count": null,
   "metadata": {},
   "outputs": [],
   "source": [
    "fig, ax = plt.subplots(figsize=(7,5), constrained_layout=True)\n",
    "z_i = 1080\n",
    "\n",
    "ax.plot(10/z_i, integ_5 /integ_truth5, 'o',  markersize=10, label = '5m')\n",
    "ax.plot(40/z_i, integ_20 / integ_truth20, 'o', markersize=10, label = '20m')\n",
    "ax.plot(50/z_i, integ_25 / integ_truth25, 'o', markersize=10, label = '25m')\n",
    "ax.plot(100/z_i, integ_50 / integ_truth50, 'o', markersize=10, label = '50m')\n",
    "ax.plot(200/z_i, integ_100 / integ_truth100, 'o', markersize=10, label = '100m')\n",
    "ax.plot(400/z_i, integ_200 / integ_truth200, 'o', markersize=10, label = '200m')\n",
    "ax.plot(800/z_i, integ_400 / integ_truth400, 'o', markersize=10, label = '400m')\n",
    "ax.plot(1600/z_i, integ_800 / integ_truth800, 'o', markersize=10, label = '800m')\n",
    "\n",
    "ax.legend(fontsize=12, loc='lower left')\n",
    "ax.set_ylabel(\"Resolved energy / Total Energy\", fontsize=14)\n",
    "ax.set_xlabel(\"$R_{eff}$ / $z_i$\" , fontsize=14) \n",
    "# ax.set_ylim(ymax=1e2, ymin=1e-6)\n",
    "# ax.set_xlim(xmax=200, xmin=0.03)\n",
    "# plt.xlim(xmax=1e1, xmin=1e-2)\n",
    "# plt.ylim(ymax=1e1, ymin=1e-6)\n",
    "\n",
    "\n",
    "plt.savefig(plot_dir+\"spec_integ_ratio.png\", pad_inches=0)"
   ]
  },
  {
   "cell_type": "markdown",
   "metadata": {},
   "source": [
    "# Varience"
   ]
  },
  {
   "cell_type": "code",
   "execution_count": 14,
   "metadata": {},
   "outputs": [],
   "source": [
    "w2_5 = np.mean((w_run5[:,:,100])**2)\n",
    "w2_20 = np.mean((w_run20[:,:,25])**2)\n",
    "w2_25 = np.mean((w_run25a[0,:,:,25])**2)\n",
    "w2_50 = np.mean((w_run50[:,:,25])**2)\n",
    "w2_100 = np.mean((w_run100[:,:,25])**2)\n",
    "w2_200 = np.mean((w_run200[:,:,25])**2)\n",
    "w2_400 = np.mean((w_run400[:,:,25])**2)\n",
    "w2_800 = np.mean((w_run800[:,:,25])**2)\n",
    "\n",
    "w_var = [w2_5, w2_20, w2_50, w2_100, w2_200, w2_400, w2_800]"
   ]
  },
  {
   "cell_type": "code",
   "execution_count": 15,
   "metadata": {},
   "outputs": [],
   "source": [
    "w_var_scale = [w2_5, w2_5, w2_5, w2_5, w2_5, w2_5, w2_5] "
   ]
  },
  {
   "cell_type": "code",
   "execution_count": 16,
   "metadata": {},
   "outputs": [],
   "source": [
    "res = [5,20,50,100,200,400,800] # [5,20,25,50,100,200,400,800]\n",
    "\n",
    "var_err = np.zeros(len(res))\n",
    "\n",
    "var_err[0] = np.std(w_run5[:,:,100])/np.sqrt(len(w_run5[:,0,100])**2)\n",
    "var_err[1] = np.std(w_run20[:,:,25])/np.sqrt(len(w_run20[:,0,25])**2)\n",
    "var_err[2] = np.std(w_run50[:,:,25])/np.sqrt(len(w_run50[:,0,25])**2)\n",
    "var_err[3] = np.std(w_run100[:,:,25])/np.sqrt(len(w_run100[:,0,25])**2)\n",
    "var_err[4] = np.std(w_run200[:,:,25])/np.sqrt(len(w_run200[:,0,25])**2)\n",
    "var_err[5] = np.std(w_run400[:,:,25])/np.sqrt(len(w_run400[:,0,25])**2)\n",
    "var_err[6] = np.std(w_run800[:,:,25])/np.sqrt(len(w_run800[:,0,25])**2)\n"
   ]
  },
  {
   "cell_type": "code",
   "execution_count": 17,
   "metadata": {},
   "outputs": [],
   "source": [
    "w20_var_k = np.zeros(7)\n",
    "\n",
    "w20_var_k[0] = w_var[1]\n",
    "w20_var_k[1] = np.mean((w_filt20k[1,:,:,25])**2)\n",
    "w20_var_k[2] = np.mean((w_filt20k[2,:,:,25])**2)\n",
    "w20_var_k[3] = np.mean((w_filt20k[3,:,:,25])**2)\n",
    "w20_var_k[4] = np.mean((w_filt20k[4,:,:,25])**2)\n",
    "w20_var_k[5] = np.mean((w_filt20k[5,:,:,25])**2)\n",
    "w20_var_k[6] = np.mean((w_filt20k[6,:,:,25])**2)\n",
    "\n",
    "res_20_new = np.array([20,25,50,100,200,400,800])"
   ]
  },
  {
   "cell_type": "code",
   "execution_count": 53,
   "metadata": {},
   "outputs": [],
   "source": [
    "w20_var_g_dyn = np.zeros(4)\n",
    "\n",
    "w20_var_g_dyn[0] = np.mean((w_filt20g_dyn[0,:,:,25])**2) #sig = 16\n",
    "w20_var_g_dyn[1] = np.mean((w_filt20g_dyn[1,:,:,25])**2)\n",
    "w20_var_g_dyn[2] = np.mean((w_filt20g_dyn[2,:,:,25])**2)\n",
    "w20_var_g_dyn[3] = np.mean((w_filt20g_dyn[3,:,:,25])**2)\n",
    "\n",
    "delta_hat_g_dyn = np.array([40,80,160,320])"
   ]
  },
  {
   "cell_type": "code",
   "execution_count": 54,
   "metadata": {},
   "outputs": [],
   "source": [
    "w_pi_over2_gauss_sq = np.zeros(2)\n",
    "\n",
    "w_pi_over2_gauss_sq[0] = np.mean((w_pi_over2_gauss[0,:,:,25])**2) #sig = 25\n",
    "w_pi_over2_gauss_sq[1] = np.mean((w_pi_over2_gauss[1,:,:,25])**2)\n",
    "\n",
    "delta_w_pi_over2_gauss_sq = np.array([40,80])"
   ]
  },
  {
   "cell_type": "code",
   "execution_count": 121,
   "metadata": {},
   "outputs": [],
   "source": [
    "w20_var = np.zeros(7)#(8)\n",
    "\n",
    "w20_var[0] = w_var[1]\n",
    "w20_var[1] = np.mean((w_filt20[0,:,:,25])**2) # sigma = 25\n",
    "w20_var[2] = np.mean((w_filt20[1,:,:,25])**2) # sigma = 50\n",
    "w20_var[3] = np.mean((w_filt20[2,:,:,25])**2) # sigma = 100\n",
    "w20_var[4] = np.mean((w_filt20[3,:,:,25])**2) # sigma = 200\n",
    "w20_var[5] = np.mean((w_filt20[4,:,:,25])**2) # sigma = 400\n",
    "w20_var[6] = np.mean((w_filt20[5,:,:,25])**2) # sigma = 800"
   ]
  },
  {
   "cell_type": "code",
   "execution_count": 122,
   "metadata": {},
   "outputs": [
    {
     "name": "stdout",
     "output_type": "stream",
     "text": [
      "[  20.   50.  100.  200.  400.  800. 1600.]\n"
     ]
    }
   ],
   "source": [
    "sigma_used = [25,50,100,200,400,800]\n",
    "\n",
    "def sig_to_delta_hat(sig_in):\n",
    "    delta_hat = (2*sig_in) #sig_in*np.sqrt(6) \n",
    "    return delta_hat\n",
    "\n",
    "delta_hat = np.zeros(len(sigma_used)+1) \n",
    "delta_hat[0] = 20\n",
    "\n",
    "for i in range(len(delta_hat)-1):\n",
    "    delta_hat[i+1] = sig_to_delta_hat(sigma_used[i])\n",
    "    \n",
    "print(delta_hat)"
   ]
  },
  {
   "cell_type": "code",
   "execution_count": 123,
   "metadata": {},
   "outputs": [
    {
     "data": {
      "image/png": "[encoded data removed]",
      "text/plain": [
       "<Figure size 432x432 with 1 Axes>"
      ]
     },
     "metadata": {
      "needs_background": "light"
     },
     "output_type": "display_data"
    }
   ],
   "source": [
    "res = np.array([5, 20, 50, 100, 200, 400, 800])\n",
    "res_20_new = np.array([20, 25, 50, 100, 200, 400, 800])\n",
    "\n",
    "z_i = 1080\n",
    "col_list = ['g', 'c', 'r', 'y', 'm', 'k', 'tab:gray', 'b']\n",
    "\n",
    "plt.figure(figsize=(6,6))\n",
    "plt.semilogx(delta_hat/z_i, w20_var/w_var_scale[0],'tab:orange', label=\"Gaussian\")\n",
    "#plt.semilogx(res_20_new/z_i, w20_var_new/w_var_scale[0],'k', label=\"20m Gaussian - match\")\n",
    "plt.semilogx(res_20_new/z_i, w20_var_k/w_var_scale[0],'tab:blue', label=\"Filtering: k-cut\")\n",
    "#plt.semilogx(delta_hat_g_dyn/z_i, w20_var_g_dyn/w_var_scale[0],'k', label=\"20m dyn Gaussian\")\n",
    "plt.semilogx(res/z_i, np.divide(np.array(w_var), np.array(w_var_scale)), 'g', label=\"LES resolved\")\n",
    "#plt.semilogx(delta_w_pi_over2_gauss_sq/z_i, w_pi_over2_gauss_sq/w_var_scale[0],'r', label=\"$\\\\pi$/2 Gaussian\")\n",
    "\n",
    "for i in range(len(res)):\n",
    "    plt.errorbar(res[i]/z_i, w_var[i]/w_var[0], yerr=var_err[i]/w_var[0], label=str(res[i])+'m', \n",
    "                 color = col_list[i], ecolor='green', fmt='o', capsize=5)\n",
    "    \n",
    "plt.xlabel(\"$\\\\frac{\\Delta}{z_i}$\", fontsize=22)\n",
    "plt.ylabel(\"$(w')^2_{res}$ $/(w')^2_{total}$\", fontsize=16)\n",
    "plt.legend(fontsize=12, loc='lower left')\n",
    "plt.xticks(np.array([0.01, 0.1, 1]), [0.01, 0.1, 1])\n",
    "\n",
    "plt.savefig(plot_dir+\"20m_w_variance_matching_k.png\")"
   ]
  },
  {
   "cell_type": "code",
   "execution_count": null,
   "metadata": {},
   "outputs": [],
   "source": [
    "# res20_2 = [20,90,100,400,800,1600,4000,8000,12000,20000]\n",
    "# res5_2 = [5,15,25,100,200,400,1000,2000,2500,4000]\n",
    "res = np.array([5, 20, 50, 100, 200, 400, 800]) # [5, 20, 25, 50, 100, 200, 400, 800]\n",
    "res_20_new = np.array([20, 25, 50, 100, 200, 400, 800])\n",
    "                #5+f.sig_to_dx(3.2,0),20+f.sig_to_dx(12.8,0), 25+f.sig_to_dx(16,0),\n",
    "                #50+f.sig_to_dx(32,0),100+f.sig_to_dx(64,0),200+f.sig_to_dx(128,0),\n",
    "                #400+f.sig_to_dx(256,0),800+f.sig_to_dx(512,0)])\n",
    "\n",
    "z_i = 1080\n",
    "\n",
    "col_list = ['g', 'c', 'r', 'y', 'm', 'k', 'tab:gray', 'b']\n",
    "\n",
    "plt.figure(figsize=(6,6))\n",
    "#plt.semilogx(np.array(res5)/z_i, w5_var/w_var[0],'tab:orange', label=\"5m Gaussian\")\n",
    "plt.semilogx(res_20_new/z_i, w20_var_new/w_var_scale[0],'tab:orange', label=\"20m Filtered Gaussian\")\n",
    "#plt.semilogx(match_res/z_i, w20_var_new/w_var[1],'tab:orange', label=\"20m Filter Gauss\")\n",
    "plt.semilogx(res_20_new/z_i, w20_var_k/w_var_scale[0],'tab:blue', label=\"20m Filter k-cut\")\n",
    "#plt.semilogx(np.array(res_k)/z_i, w5k_var/w_var[0],'tab:blue', label=\"5m k-cuttoff\")\n",
    "#plt.semilogx(np.array(res5)/z_i, subgrid_w_5/w_var[0],'tab:orange', linestyle='--', label=\"5m subgrid\")\n",
    "#plt.semilogx(np.array(res20)/z_i, w20_var/w_var[1], 'b', label=\"20m\")\n",
    "# plt.semilogx(res5_2, w5_var, label=\"5m_2\")\n",
    "# plt.semilogx(res20_2, w2_filt, label=\"20m_2\")\n",
    "# plt.semilogx(res/z_i, np.divide(np.array(w_var_av), np.array(w_var_scale)), 'r', label=\"Av LES resolved\")\n",
    "plt.semilogx(res/z_i, np.divide(np.array(w_var), np.array(w_var_scale)), 'g', label=\"LES resolved\")\n",
    "#plt.semilogx(res, w_var, 'g', label=\"LES resolved\")\n",
    "# plt.errorbar(res[0]/z_i, w_var[0]/w_var_scale[0], yerr=var_err[0]/w_var[0], label=str(res[0])+'m', \n",
    "#                  color = col_list[0], ecolor='green', fmt='o', capsize=5)\n",
    "for i in range(len(res)):\n",
    "    plt.errorbar(res[i]/z_i, w_var[i]/w_var[0], yerr=var_err[i]/w_var[0], label=str(res[i])+'m', \n",
    "                 color = col_list[i], ecolor='green', fmt='o', capsize=5)\n",
    "plt.xlabel(\"$\\\\frac{\\Delta x}{z_i}$\", fontsize=22)\n",
    "plt.ylabel(\"$(w')^2_{res}$ $/(w')^2_{total}$\", fontsize=16)\n",
    "#plt.ylim(ymax=1.1, ymin=0.0)\n",
    "#plt.xlim(xmax=4e3, xmin=3e0)\n",
    "plt.legend(fontsize=12, loc='lower left')\n",
    "plt.xticks(np.array([0.01, 0.1, 1]), [0.01, 0.1, 1])\n",
    "\n",
    "plt.savefig(plot_dir+\"20m_w_variance_matching_k.png\")#(\"../plots/5m_w_variance_subgrid.png\")"
   ]
  },
  {
   "cell_type": "code",
   "execution_count": null,
   "metadata": {},
   "outputs": [],
   "source": [
    "print(res5)"
   ]
  },
  {
   "cell_type": "code",
   "execution_count": null,
   "metadata": {},
   "outputs": [],
   "source": [
    "print(res20)"
   ]
  },
  {
   "cell_type": "code",
   "execution_count": null,
   "metadata": {},
   "outputs": [],
   "source": [
    "#res20 = [20,90,100,400,800,1600,4000,8000,12000,20000]\n",
    "\n",
    "plt.figure(figsize=(6,6))\n",
    "plt.semilogx(res20, w2_filt)\n",
    "plt.xlabel(\"Filter Scale\", fontsize=14)\n",
    "plt.ylabel(\"Varience of $w'$\", fontsize=14)\n",
    "#plt.ylim(ymax=1.8, ymin=0.0)\n",
    "#plt.xlim(xmax=4e3, xmin=3e0)\n",
    "\n",
    "plt.savefig(plot_dir+\"20m_w_variance.png\", pad_inches=0)"
   ]
  },
  {
   "cell_type": "code",
   "execution_count": null,
   "metadata": {},
   "outputs": [],
   "source": [
    "res20 = [20,60,100,400,800,1600,4000,8000,12000,20000]\n",
    "\n",
    "plt.figure(figsize=(6,6))\n",
    "plt.semilogx(res20, w20_area)\n",
    "plt.xlabel(\"Filter scale\", fontsize=14)\n",
    "plt.ylabel(\"Variance of $w'$\", fontsize=14)\n",
    "plt.ylim(ymax=1.8, ymin=-0.1)\n",
    "#plt.xlim(xmax=4e3, xmin=3e0)\n",
    "\n",
    "plt.savefig(plot_dir+\"20m_w_variance_spec.png\", pad_inches=0)"
   ]
  },
  {
   "cell_type": "code",
   "execution_count": null,
   "metadata": {},
   "outputs": [],
   "source": [
    "print(\"calculated variance: w'^2\", np.mean((w1[:,:,100])**2))\n",
    "\n",
    "res = [5,15,25,100,200,400,1000,2000,2500,3000]\n",
    "\n",
    "w_area = np.zeros(10)\n",
    "\n",
    "w_area[0] = area_w = 2*integrate.simps(w_spec[:,100], w_kpo) \n",
    "print(\"spectrum w'\", res[0], \"m \", area_w)\n",
    "\n",
    "\n",
    "\n",
    "for i in range(9):\n",
    "    w_area[i+1] = filt_area_w = 2*integrate.simps(w_filt_spec[i,:,100], w_kpo) \n",
    "    print(\"spectrum w'\", res[i+1], \"m \", filt_area_w)"
   ]
  },
  {
   "cell_type": "code",
   "execution_count": null,
   "metadata": {},
   "outputs": [],
   "source": [
    "print(\"calculated covariance: w'th'\", np.mean((my_w_th[:,:,100])))\n",
    "\n",
    "res = [5,15,25,100,200,400,1000,2000,2500,3000]\n",
    "\n",
    "wth_area = np.zeros(10)\n",
    "\n",
    "wth_area[0] = area_w = 2*integrate.simps(w_th_cospec[:,100], w_kpo) \n",
    "print(\"cospectrum w'th'\", res[0], \"m \", area_w)\n",
    "\n",
    "for i in range(9):\n",
    "    wth_area[i+1] = filt_area_w = 2*integrate.simps(w_th_filt_cospec[i,:,100], w_kpo) \n",
    "    print(\"cospectrum w'th'\", res[i+1], \"m \", filt_area_w)"
   ]
  },
  {
   "cell_type": "code",
   "execution_count": null,
   "metadata": {},
   "outputs": [],
   "source": [
    "plt.figure(figsize=(6,6))\n",
    "plt.semilogx(res, wth_area)\n",
    "plt.xlabel(\"Filter scale\", fontsize=14)\n",
    "plt.ylabel(\"Covariance of $w' \\\\theta '$\", fontsize=14)\n",
    "#plt.ylim(ymax=1e4, ymin=1e-30)\n",
    "#plt.xlim(xmax=1e0, xmin=1e-3)\n",
    "\n",
    "plt.savefig(plot_dir+\"gaus_wth_covariance.png\", pad_inches=0)"
   ]
  },
  {
   "cell_type": "code",
   "execution_count": null,
   "metadata": {},
   "outputs": [],
   "source": [
    "plt.figure(figsize=(6,6))\n",
    "plt.semilogx(res, w_area)\n",
    "plt.xlabel(\"Filter scale\", fontsize=14)\n",
    "plt.ylabel(\"Variance of $w'$\", fontsize=14)\n",
    "#plt.ylim(ymax=1e4, ymin=1e-30)\n",
    "#plt.xlim(xmax=1e0, xmin=1e-3)\n",
    "\n",
    "plt.savefig(plot_dir+\"gaus_w_variance.png\", pad_inches=0)"
   ]
  },
  {
   "cell_type": "markdown",
   "metadata": {},
   "source": [
    "## Dissipation lengthscale"
   ]
  },
  {
   "cell_type": "code",
   "execution_count": null,
   "metadata": {},
   "outputs": [],
   "source": [
    "k0w = min(w_filt_kpo[0,:])\n",
    "k1w = max(w_filt_kpo[0,:])"
   ]
  },
  {
   "cell_type": "code",
   "execution_count": null,
   "metadata": {},
   "outputs": [],
   "source": [
    "num_w = integrate.simps((w_kpo**2)*w_spec[:,100], w_kpo)\n",
    "den_w = integrate.simps(w_spec[:,100], w_kpo)"
   ]
  },
  {
   "cell_type": "code",
   "execution_count": null,
   "metadata": {},
   "outputs": [],
   "source": [
    "kd_w = np.sqrt(num_w/den_w)\n",
    "ld_w = 2*np.pi/kd_w"
   ]
  },
  {
   "cell_type": "code",
   "execution_count": null,
   "metadata": {},
   "outputs": [],
   "source": [
    "kd_wfilt = np.zeros(10)\n",
    "ld_wfilt = np.zeros(10)\n",
    "\n",
    "for i in range(9):\n",
    "    num_w = integrate.simps((w_kpo**2)*w_filt_spec[i,:,100], w_kpo)\n",
    "    den_w = integrate.simps(w_filt_spec[i,:,100], w_kpo)\n",
    "    kd_wfilt[i+1] = np.sqrt(num_w/den_w)\n",
    "    ld_wfilt[i+1] = 2*np.pi/kd_wfilt[i+1]"
   ]
  },
  {
   "cell_type": "code",
   "execution_count": null,
   "metadata": {},
   "outputs": [],
   "source": [
    "kd_wfilt[0] = kd_w\n",
    "ld_wfilt[0] = ld_w"
   ]
  },
  {
   "cell_type": "code",
   "execution_count": null,
   "metadata": {},
   "outputs": [],
   "source": [
    "sigma_list = [0, 3, 5, 20, 40, 80, 200, 400, 600, 1000] #, 1500, 2000]\n",
    "\n",
    "plt.figure(figsize=(6,6))\n",
    "plt.plot(sigma_list,ld_wfilt)\n",
    "plt.xlabel(\"$\\\\sigma$ value\", fontsize=14)\n",
    "plt.ylabel(\"Dissipation lengthscale (m)\", fontsize=14)\n",
    "#plt.ylim(ymax=1e4, ymin=1e-30)\n",
    "#plt.xlim(xmax=1e0, xmin=1e-3)\n",
    "\n",
    "plt.savefig(plot_dir+\"gaus_w_diss_len.png\", pad_inches=0)"
   ]
  },
  {
   "cell_type": "code",
   "execution_count": null,
   "metadata": {},
   "outputs": [],
   "source": [
    "plt.figure(figsize=(6,6))\n",
    "plt.plot(sigma_list, kd_wfilt)\n",
    "plt.xlabel(\"$\\\\sigma$ value\", fontsize=14)\n",
    "plt.ylabel(\"Dissipation wavenumber\", fontsize=14)\n",
    "#plt.ylim(ymax=1e4, ymin=1e-30)\n",
    "#plt.xlim(xmax=1e0, xmin=1e-3)\n",
    "\n",
    "plt.savefig(plot_dir+\"gaus_w_diss_k.png\", pad_inches=0)"
   ]
  },
  {
   "cell_type": "code",
   "execution_count": null,
   "metadata": {},
   "outputs": [],
   "source": [
    "kd_wfilt = np.zeros(11)\n",
    "ld_wfilt = np.zeros(11)\n",
    "\n",
    "for i in range(10):\n",
    "    num_w_th = integrate.simps((w_kpo**2)*w_th_filt_cospec[i,:,100], w_kpo)\n",
    "    den_w_th = integrate.simps(w_th_filt_cospec[i,:,100], w_kpo)\n",
    "    kd_wthfilt[i+1] = np.sqrt(num_w/den_w)\n",
    "    ld_wthfilt[i+1] = 2*np.pi/kd_wfilt[i+1]"
   ]
  },
  {
   "cell_type": "code",
   "execution_count": null,
   "metadata": {},
   "outputs": [],
   "source": []
  },
  {
   "cell_type": "code",
   "execution_count": null,
   "metadata": {},
   "outputs": [],
   "source": []
  }
 ],
 "metadata": {
  "kernelspec": {
   "display_name": "Python 3",
   "language": "python",
   "name": "python3"
  },
  "language_info": {
   "codemirror_mode": {
    "name": "ipython",
    "version": 3
   },
   "file_extension": ".py",
   "mimetype": "text/x-python",
   "name": "python",
   "nbconvert_exporter": "python",
   "pygments_lexer": "ipython3",
   "version": "3.6.10"
  }
 },
 "nbformat": 4,
 "nbformat_minor": 2
}
